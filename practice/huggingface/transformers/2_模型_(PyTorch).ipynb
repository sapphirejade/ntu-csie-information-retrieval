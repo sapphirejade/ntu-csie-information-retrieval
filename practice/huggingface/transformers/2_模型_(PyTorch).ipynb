{
  "cells": [
    {
      "cell_type": "markdown",
      "metadata": {
        "id": "MG33PKBEC4BX"
      },
      "source": [
        "# 模型 (PyTorch)"
      ]
    },
    {
      "cell_type": "markdown",
      "metadata": {
        "id": "4LBMPhn7C4BY"
      },
      "source": [
        "Install the Transformers, Datasets, and Evaluate libraries to run this notebook."
      ]
    },
    {
      "cell_type": "code",
      "execution_count": 1,
      "metadata": {
        "id": "FjNeKevlC4BY"
      },
      "outputs": [
        {
          "name": "stdout",
          "output_type": "stream",
          "text": [
            "Requirement already satisfied: datasets in /Users/morris/Documents/code/ntu-csie-information-retrieval/.conda/lib/python3.10/site-packages (2.15.0)\n",
            "Requirement already satisfied: evaluate in /Users/morris/Documents/code/ntu-csie-information-retrieval/.conda/lib/python3.10/site-packages (0.4.1)\n",
            "Requirement already satisfied: transformers in /Users/morris/Documents/code/ntu-csie-information-retrieval/.conda/lib/python3.10/site-packages (4.33.3)\n",
            "Requirement already satisfied: sentencepiece in /Users/morris/Documents/code/ntu-csie-information-retrieval/.conda/lib/python3.10/site-packages (0.1.99)\n",
            "Requirement already satisfied: numpy>=1.17 in /Users/morris/Documents/code/ntu-csie-information-retrieval/.conda/lib/python3.10/site-packages (from datasets) (1.25.2)\n",
            "Requirement already satisfied: pyarrow>=8.0.0 in /Users/morris/Documents/code/ntu-csie-information-retrieval/.conda/lib/python3.10/site-packages (from datasets) (14.0.1)\n",
            "Requirement already satisfied: pyarrow-hotfix in /Users/morris/Documents/code/ntu-csie-information-retrieval/.conda/lib/python3.10/site-packages (from datasets) (0.6)\n",
            "Requirement already satisfied: dill<0.3.8,>=0.3.0 in /Users/morris/Documents/code/ntu-csie-information-retrieval/.conda/lib/python3.10/site-packages (from datasets) (0.3.7)\n",
            "Requirement already satisfied: pandas in /Users/morris/Documents/code/ntu-csie-information-retrieval/.conda/lib/python3.10/site-packages (from datasets) (2.1.3)\n",
            "Requirement already satisfied: requests>=2.19.0 in /Users/morris/Documents/code/ntu-csie-information-retrieval/.conda/lib/python3.10/site-packages (from datasets) (2.31.0)\n",
            "Requirement already satisfied: tqdm>=4.62.1 in /Users/morris/Documents/code/ntu-csie-information-retrieval/.conda/lib/python3.10/site-packages (from datasets) (4.66.1)\n",
            "Requirement already satisfied: xxhash in /Users/morris/Documents/code/ntu-csie-information-retrieval/.conda/lib/python3.10/site-packages (from datasets) (3.4.1)\n",
            "Requirement already satisfied: multiprocess in /Users/morris/Documents/code/ntu-csie-information-retrieval/.conda/lib/python3.10/site-packages (from datasets) (0.70.15)\n",
            "Requirement already satisfied: fsspec<=2023.10.0,>=2023.1.0 in /Users/morris/Documents/code/ntu-csie-information-retrieval/.conda/lib/python3.10/site-packages (from fsspec[http]<=2023.10.0,>=2023.1.0->datasets) (2023.10.0)\n",
            "Requirement already satisfied: aiohttp in /Users/morris/Documents/code/ntu-csie-information-retrieval/.conda/lib/python3.10/site-packages (from datasets) (3.8.5)\n",
            "Requirement already satisfied: huggingface-hub>=0.18.0 in /Users/morris/Documents/code/ntu-csie-information-retrieval/.conda/lib/python3.10/site-packages/huggingface_hub-0.19.4-py3.8.egg (from datasets) (0.19.4)\n",
            "Requirement already satisfied: packaging in /Users/morris/Documents/code/ntu-csie-information-retrieval/.conda/lib/python3.10/site-packages (from datasets) (23.2)\n",
            "Requirement already satisfied: pyyaml>=5.1 in /Users/morris/Documents/code/ntu-csie-information-retrieval/.conda/lib/python3.10/site-packages (from datasets) (6.0.1)\n",
            "Requirement already satisfied: responses<0.19 in /Users/morris/Documents/code/ntu-csie-information-retrieval/.conda/lib/python3.10/site-packages (from evaluate) (0.18.0)\n",
            "Requirement already satisfied: filelock in /Users/morris/Documents/code/ntu-csie-information-retrieval/.conda/lib/python3.10/site-packages (from transformers) (3.13.1)\n",
            "Requirement already satisfied: regex!=2019.12.17 in /Users/morris/Documents/code/ntu-csie-information-retrieval/.conda/lib/python3.10/site-packages (from transformers) (2023.10.3)\n",
            "Requirement already satisfied: tokenizers!=0.11.3,<0.14,>=0.11.1 in /Users/morris/Documents/code/ntu-csie-information-retrieval/.conda/lib/python3.10/site-packages (from transformers) (0.11.4)\n",
            "Requirement already satisfied: safetensors>=0.3.1 in /Users/morris/Documents/code/ntu-csie-information-retrieval/.conda/lib/python3.10/site-packages (from transformers) (0.4.0)\n",
            "Requirement already satisfied: attrs>=17.3.0 in /Users/morris/Documents/code/ntu-csie-information-retrieval/.conda/lib/python3.10/site-packages (from aiohttp->datasets) (23.1.0)\n",
            "Requirement already satisfied: charset-normalizer<4.0,>=2.0 in /Users/morris/Documents/code/ntu-csie-information-retrieval/.conda/lib/python3.10/site-packages (from aiohttp->datasets) (3.3.2)\n",
            "Requirement already satisfied: multidict<7.0,>=4.5 in /Users/morris/Documents/code/ntu-csie-information-retrieval/.conda/lib/python3.10/site-packages (from aiohttp->datasets) (6.0.2)\n",
            "Requirement already satisfied: async-timeout<5.0,>=4.0.0a3 in /Users/morris/Documents/code/ntu-csie-information-retrieval/.conda/lib/python3.10/site-packages (from aiohttp->datasets) (4.0.3)\n",
            "Requirement already satisfied: yarl<2.0,>=1.0 in /Users/morris/Documents/code/ntu-csie-information-retrieval/.conda/lib/python3.10/site-packages (from aiohttp->datasets) (1.8.1)\n",
            "Requirement already satisfied: frozenlist>=1.1.1 in /Users/morris/Documents/code/ntu-csie-information-retrieval/.conda/lib/python3.10/site-packages (from aiohttp->datasets) (1.4.0)\n",
            "Requirement already satisfied: aiosignal>=1.1.2 in /Users/morris/Documents/code/ntu-csie-information-retrieval/.conda/lib/python3.10/site-packages (from aiohttp->datasets) (1.3.1)\n",
            "Requirement already satisfied: typing-extensions>=3.7.4.3 in /Users/morris/Documents/code/ntu-csie-information-retrieval/.conda/lib/python3.10/site-packages (from huggingface-hub>=0.18.0->datasets) (4.8.0)\n",
            "Requirement already satisfied: idna<4,>=2.5 in /Users/morris/Documents/code/ntu-csie-information-retrieval/.conda/lib/python3.10/site-packages (from requests>=2.19.0->datasets) (3.4)\n",
            "Requirement already satisfied: urllib3<3,>=1.21.1 in /Users/morris/Documents/code/ntu-csie-information-retrieval/.conda/lib/python3.10/site-packages (from requests>=2.19.0->datasets) (2.1.0)\n",
            "Requirement already satisfied: certifi>=2017.4.17 in /Users/morris/Documents/code/ntu-csie-information-retrieval/.conda/lib/python3.10/site-packages (from requests>=2.19.0->datasets) (2023.11.17)\n",
            "Requirement already satisfied: python-dateutil>=2.8.2 in /Users/morris/Documents/code/ntu-csie-information-retrieval/.conda/lib/python3.10/site-packages (from pandas->datasets) (2.8.2)\n",
            "Requirement already satisfied: pytz>=2020.1 in /Users/morris/Documents/code/ntu-csie-information-retrieval/.conda/lib/python3.10/site-packages (from pandas->datasets) (2023.3.post1)\n",
            "Requirement already satisfied: tzdata>=2022.1 in /Users/morris/Documents/code/ntu-csie-information-retrieval/.conda/lib/python3.10/site-packages (from pandas->datasets) (2023.3)\n",
            "Requirement already satisfied: six>=1.5 in /Users/morris/Documents/code/ntu-csie-information-retrieval/.conda/lib/python3.10/site-packages (from python-dateutil>=2.8.2->pandas->datasets) (1.16.0)\n",
            "Note: you may need to restart the kernel to use updated packages.\n"
          ]
        }
      ],
      "source": [
        "import site\n",
        "try:\n",
        "    import datasets\n",
        "    import evaluate\n",
        "    import transformers\n",
        "    import sentencepiece\n",
        "    import accelerate\n",
        "    import torch\n",
        "except ImportError:\n",
        "    %pip install datasets evaluate transformers sentencepiece\n",
        "    %pip install accelerate -U\n",
        "    %pip install torch torchvision torchaudio\n",
        "    %pip install scikit-learn scipy\n",
        "    site.main()"
      ]
    },
    {
      "cell_type": "code",
      "execution_count": 2,
      "metadata": {
        "id": "V2w4aA7ZC4BZ"
      },
      "outputs": [
        {
          "name": "stderr",
          "output_type": "stream",
          "text": [
            "/Users/morris/Documents/code/ntu-csie-information-retrieval/.conda/lib/python3.10/site-packages/tqdm/auto.py:21: TqdmWarning: IProgress not found. Please update jupyter and ipywidgets. See https://ipywidgets.readthedocs.io/en/stable/user_install.html\n",
            "  from .autonotebook import tqdm as notebook_tqdm\n"
          ]
        }
      ],
      "source": [
        "from transformers import BertConfig, BertModel\n",
        "\n",
        "# Building the config\n",
        "config = BertConfig()\n",
        "\n",
        "# Building the model from the config\n",
        "model = BertModel(config)"
      ]
    },
    {
      "cell_type": "code",
      "execution_count": 3,
      "metadata": {
        "id": "YHlGVvbqC4BZ",
        "outputId": "a194b248-cd70-4429-f7c2-4a2085fd62f8"
      },
      "outputs": [
        {
          "name": "stdout",
          "output_type": "stream",
          "text": [
            "BertConfig {\n",
            "  \"attention_probs_dropout_prob\": 0.1,\n",
            "  \"classifier_dropout\": null,\n",
            "  \"hidden_act\": \"gelu\",\n",
            "  \"hidden_dropout_prob\": 0.1,\n",
            "  \"hidden_size\": 768,\n",
            "  \"initializer_range\": 0.02,\n",
            "  \"intermediate_size\": 3072,\n",
            "  \"layer_norm_eps\": 1e-12,\n",
            "  \"max_position_embeddings\": 512,\n",
            "  \"model_type\": \"bert\",\n",
            "  \"num_attention_heads\": 12,\n",
            "  \"num_hidden_layers\": 12,\n",
            "  \"pad_token_id\": 0,\n",
            "  \"position_embedding_type\": \"absolute\",\n",
            "  \"transformers_version\": \"4.33.3\",\n",
            "  \"type_vocab_size\": 2,\n",
            "  \"use_cache\": true,\n",
            "  \"vocab_size\": 30522\n",
            "}\n",
            "\n"
          ]
        }
      ],
      "source": [
        "print(config)"
      ]
    },
    {
      "cell_type": "code",
      "execution_count": 4,
      "metadata": {
        "id": "3rL_M-nkC4Ba"
      },
      "outputs": [],
      "source": [
        "from transformers import BertConfig, BertModel\n",
        "\n",
        "config = BertConfig()\n",
        "model = BertModel(config)\n",
        "\n",
        "# Model is randomly initialized!"
      ]
    },
    {
      "cell_type": "code",
      "execution_count": 5,
      "metadata": {
        "id": "pxXqXUQAC4Ba"
      },
      "outputs": [],
      "source": [
        "from transformers import BertModel\n",
        "\n",
        "model = BertModel.from_pretrained(\"bert-base-cased\")"
      ]
    },
    {
      "cell_type": "code",
      "execution_count": 6,
      "metadata": {
        "id": "hJNS3mtKC4Ba"
      },
      "outputs": [],
      "source": [
        "model.save_pretrained(\"directory_on_my_computer\")"
      ]
    },
    {
      "cell_type": "code",
      "execution_count": 7,
      "metadata": {
        "id": "v4kmeGcWC4Bb"
      },
      "outputs": [],
      "source": [
        "sequences = [\"Hello!\", \"Cool.\", \"Nice!\"]"
      ]
    },
    {
      "cell_type": "code",
      "execution_count": 8,
      "metadata": {
        "id": "htnAEX2fC4Bb"
      },
      "outputs": [],
      "source": [
        "encoded_sequences = [\n",
        "    [101, 7592, 999, 102],\n",
        "    [101, 4658, 1012, 102],\n",
        "    [101, 3835, 999, 102],\n",
        "]"
      ]
    },
    {
      "cell_type": "code",
      "execution_count": 9,
      "metadata": {
        "id": "lAnANHp8C4Be"
      },
      "outputs": [],
      "source": [
        "import torch\n",
        "\n",
        "model_inputs = torch.tensor(encoded_sequences)"
      ]
    },
    {
      "cell_type": "code",
      "execution_count": 10,
      "metadata": {
        "id": "qnKjRegiC4Bf"
      },
      "outputs": [],
      "source": [
        "output = model(model_inputs)"
      ]
    }
  ],
  "metadata": {
    "colab": {
      "name": "模型 (PyTorch)",
      "provenance": []
    },
    "kernelspec": {
      "display_name": "Python 3",
      "language": "python",
      "name": "python3"
    },
    "language_info": {
      "codemirror_mode": {
        "name": "ipython",
        "version": 3
      },
      "file_extension": ".py",
      "mimetype": "text/x-python",
      "name": "python",
      "nbconvert_exporter": "python",
      "pygments_lexer": "ipython3",
      "version": "3.10.13"
    }
  },
  "nbformat": 4,
  "nbformat_minor": 0
}
