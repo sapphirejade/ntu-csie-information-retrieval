{
 "cells": [
  {
   "cell_type": "code",
   "execution_count": 1,
   "metadata": {},
   "outputs": [],
   "source": [
    "import torch\n",
    "import numpy as np"
   ]
  },
  {
   "cell_type": "code",
   "execution_count": 4,
   "metadata": {},
   "outputs": [
    {
     "data": {
      "text/plain": [
       "tensor([[1, 2],\n",
       "        [3, 4],\n",
       "        [5, 6]])"
      ]
     },
     "execution_count": 4,
     "metadata": {},
     "output_type": "execute_result"
    }
   ],
   "source": [
    "torch.tensor([[1, 2], [3, 4], [5, 6]])"
   ]
  },
  {
   "cell_type": "code",
   "execution_count": 5,
   "metadata": {},
   "outputs": [
    {
     "data": {
      "text/plain": [
       "tensor([[1., 2.],\n",
       "        [3., 4.],\n",
       "        [5., 6.]], dtype=torch.float64)"
      ]
     },
     "execution_count": 5,
     "metadata": {},
     "output_type": "execute_result"
    }
   ],
   "source": [
    "# 可使用 dtype 來設定數據類型\n",
    "torch.tensor([[1, 2], [3, 4], [5, 6]], dtype=torch.float64)\n"
   ]
  },
  {
   "cell_type": "code",
   "execution_count": 6,
   "metadata": {},
   "outputs": [
    {
     "data": {
      "text/plain": [
       "tensor([[0., 0.],\n",
       "        [0., 0.]])"
      ]
     },
     "execution_count": 6,
     "metadata": {},
     "output_type": "execute_result"
    }
   ],
   "source": [
    "# 建立全為 0 的張量\n",
    "torch.zeros([2, 2])\n"
   ]
  },
  {
   "cell_type": "code",
   "execution_count": 7,
   "metadata": {},
   "outputs": [
    {
     "data": {
      "text/plain": [
       "tensor([[1., 1.],\n",
       "        [1., 1.]])"
      ]
     },
     "execution_count": 7,
     "metadata": {},
     "output_type": "execute_result"
    }
   ],
   "source": [
    "# 建立全為 1 的張量\n",
    "torch.ones([2, 2])"
   ]
  },
  {
   "cell_type": "code",
   "execution_count": 11,
   "metadata": {},
   "outputs": [
    {
     "name": "stdout",
     "output_type": "stream",
     "text": [
      "False\n"
     ]
    }
   ],
   "source": [
    "print(torch.cuda.is_available())"
   ]
  },
  {
   "cell_type": "code",
   "execution_count": 9,
   "metadata": {},
   "outputs": [
    {
     "name": "stdout",
     "output_type": "stream",
     "text": [
      "True\n",
      "True\n"
     ]
    }
   ],
   "source": [
    "import torch\n",
    "import math\n",
    "\n",
    "print(torch.backends.mps.is_available())\n",
    "# True\n",
    "print(torch.backends.mps.is_built())\n",
    "# True\n"
   ]
  },
  {
   "cell_type": "code",
   "execution_count": 15,
   "metadata": {},
   "outputs": [
    {
     "name": "stdout",
     "output_type": "stream",
     "text": [
      "tensor([1.], device='mps:0')\n",
      "numpy1: [[1. 2.]\n",
      " [3. 4.]\n",
      " [5. 6.]]\n",
      "type: <class 'numpy.ndarray'>\n"
     ]
    }
   ],
   "source": [
    "import torch\n",
    "if torch.backends.mps.is_available():\n",
    "    mps_device = torch.device(\"mps\")\n",
    "    x = torch.ones(1, device=mps_device)\n",
    "    print (x)\n",
    "    t1 = torch.tensor([[1, 2], [3, 4], [5, 6]], dtype=torch.float32)\n",
    "    numpy1 = t1.numpy()\n",
    "    print(\"numpy1:\", numpy1)\n",
    "    print(\"type:\", type(numpy1))\n",
    "else:\n",
    "    print (\"MPS device not found.\")\n"
   ]
  },
  {
   "cell_type": "code",
   "execution_count": 16,
   "metadata": {},
   "outputs": [
    {
     "name": "stdout",
     "output_type": "stream",
     "text": [
      "dtype: torch.int64\n",
      "dtype: torch.float32\n",
      "dtype: torch.int64\n",
      "dtype: torch.int64\n"
     ]
    }
   ],
   "source": [
    "numpy2 = np.array([[1, 2, 3], [4, 5, 6]])\n",
    "\n",
    "# 第一種\n",
    "tensor1 = torch.tensor(numpy2)\n",
    "print(\"dtype:\", tensor1.dtype)\n",
    "\n",
    "# 第二種\n",
    "tensor2 = torch.Tensor(numpy2)\n",
    "print(\"dtype:\", tensor2.dtype)\n",
    "\n",
    "# 第三種\n",
    "tensor3 = torch.as_tensor(numpy2)\n",
    "print(\"dtype:\", tensor3.dtype)\n",
    "\n",
    "# 第四種\n",
    "tensor4 = torch.from_numpy(numpy2)\n",
    "print(\"dtype:\", tensor4.dtype)"
   ]
  },
  {
   "cell_type": "code",
   "execution_count": 17,
   "metadata": {},
   "outputs": [
    {
     "data": {
      "text/plain": [
       "tensor([[ 0.9727, -0.4440,  1.1279],\n",
       "        [ 0.2674,  1.4145, -0.7083]], requires_grad=True)"
      ]
     },
     "execution_count": 17,
     "metadata": {},
     "output_type": "execute_result"
    }
   ],
   "source": [
    "# 建立 Tensor 並設定 requires_grad 為 True\n",
    "torch.tensor([[1, 2], [3, 4], [5, 6]], dtype=torch.float64, requires_grad=True)\n",
    "# 建立隨機數值的 Tensor 並設定 requires_grad 為 True\n",
    "torch.randn(2, 3, requires_grad=True)"
   ]
  },
  {
   "cell_type": "code",
   "execution_count": 19,
   "metadata": {},
   "outputs": [
    {
     "name": "stdout",
     "output_type": "stream",
     "text": [
      "tensor([[ 0.3271, -1.5822,  0.4154],\n",
      "        [ 1.7853, -0.2583, -1.1958]])\n",
      "d requires grad: False\n",
      "d grad: tensor([[ 0.6844,  0.4112, -0.3473],\n",
      "        [ 0.4151,  1.0079, -1.4076]])\n"
     ]
    }
   ],
   "source": [
    "# 建立隨機數值的 Tensor 並設定 requires_grad=True\n",
    "x = torch.randn(2, 3, requires_grad=True)\n",
    "y = torch.randn(2, 3, requires_grad=True)\n",
    "z = torch.randn(2, 3, requires_grad=True)\n",
    "# 計算式子\n",
    "a = x * y\n",
    "b = a + z\n",
    "c = torch.sum(b)\n",
    "# 計算梯度\n",
    "c.backward()\n",
    "# 查看 x 的梯度值\n",
    "print(x.grad)\n",
    "# 設定 detach()\n",
    "d = x.detach()\n",
    "# 查看是否追蹤 d 的梯度計算及數值\n",
    "print(\"d requires grad:\", d. requires_grad)\n",
    "print(\"d grad:\", d)"
   ]
  }
 ],
 "metadata": {
  "kernelspec": {
   "display_name": "Python 3",
   "language": "python",
   "name": "python3"
  },
  "language_info": {
   "codemirror_mode": {
    "name": "ipython",
    "version": 3
   },
   "file_extension": ".py",
   "mimetype": "text/x-python",
   "name": "python",
   "nbconvert_exporter": "python",
   "pygments_lexer": "ipython3",
   "version": "3.10.13"
  }
 },
 "nbformat": 4,
 "nbformat_minor": 2
}
